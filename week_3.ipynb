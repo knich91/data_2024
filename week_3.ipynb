{
 "cells": [
  {
   "cell_type": "markdown",
<<<<<<< HEAD
   "metadata": {
    "id": "9TxHBxSmB96X"
   },
   "source": [
    "# Markdown Basics in Jupyter Notebooks\n",
=======
   "metadata": {},
   "source": [
    "# Markdown in Jupyter Notebooks\n",
>>>>>>> 1907a8522d3c6fcaa549ff9abe1d4a75afea92e2
    "\n",
    "**Objective:** By the end of this exercise, you should be able to use Markdown to create organized, styled content in Jupyter Notebooks.\n",
    "\n",
    "[documentation](https://www.markdownguide.org/cheat-sheet/)\n",
    "\n",
<<<<<<< HEAD
    "[more documentation](https://www.markdownguide.org/extended-syntax/)\n",
    "\n",
    "**Instructions**\n",
    "\n",
    "1. Use Markdown headings to structure content.\n",
    "Create cells with the following:\n",
    "  - A title using **Heading 1**\n",
    "  - A section heading with **Heading 2**\n",
    "  - A subsection with **Heading 3**"
=======
    "[more documentation](https://www.markdownguide.org/extended-syntax/)"
>>>>>>> 1907a8522d3c6fcaa549ff9abe1d4a75afea92e2
   ]
  },
  {
   "cell_type": "markdown",
<<<<<<< HEAD
=======
   "metadata": {},
   "source": [
    "**Instructions**\n",
    "\n",
    "1. Use Markdown headings to structure content.\n",
    "Create cells with the following:\n",
    "  - A title using **Heading 1**\n",
    "  - A section heading with **Heading 2**\n",
    "  - A subsection with **Heading 3**\n",
    "  - A subsection with **Heading 4**\n",
    "  - A subsection with **Heading 5**\n",
    "  - A subsection with **Heading 6**"
   ]
  },
  {
   "cell_type": "markdown",
>>>>>>> 1907a8522d3c6fcaa549ff9abe1d4a75afea92e2
   "metadata": {
    "id": "6SPk_f2fHR14"
   },
   "source": [
<<<<<<< HEAD
    "# Heading 1\n",
    "## Heading 2\n",
    "### Heading 3"
=======
    "--- \n",
    "\n",
    "Your mark down here \n",
    "\n",
    "---"
>>>>>>> 1907a8522d3c6fcaa549ff9abe1d4a75afea92e2
   ]
  },
  {
   "cell_type": "markdown",
   "metadata": {
    "id": "t_HeS5bpB8u7"
   },
   "source": [
    "2. Practice bold and italic text:\n",
    "  - Add a cell with the following text: “This is bold text, and this is italic text.”\n",
    "  - Create a blockquote with the text: “This is a blockquote example.”"
   ]
  },
  {
   "cell_type": "markdown",
   "metadata": {
    "id": "jy1cptsFHSuX"
   },
   "source": [
<<<<<<< HEAD
    "**This is bold text**, and *this is italic text*\n",
    "> This is a blockquote example"
=======
    "--- \n",
    "\n",
    "Your mark down here \n",
    "\n",
    "---"
>>>>>>> 1907a8522d3c6fcaa549ff9abe1d4a75afea92e2
   ]
  },
  {
   "cell_type": "markdown",
   "metadata": {
    "id": "6AB2ox0gHF34"
   },
   "source": [
    "3. Create an ordered list (numbers) and an unordered list (bullets):\n",
    "\n",
    "- **Ordered List:**\n",
    "  1. First item\n",
    "  2. Second item\n",
    "  3. Third item\n",
    "\n",
    "- **Unordered List:**\n",
    "  - First item\n",
    "  - Second item\n",
    "  - Third item"
   ]
  },
  {
   "cell_type": "markdown",
   "metadata": {
    "id": "JyYvQ5lSHTmX"
   },
   "source": [
<<<<<<< HEAD
    "**Ordered List**\n",
    "1. First Item\n",
    "2. Second Item\n",
    "3. Third Item\n",
    "\n",
    "**Unordered List**\n",
    "- First Item\n",
    "- Second Item\n",
    "- Third Item"
=======
    "--- \n",
    "\n",
    "Your mark down here \n",
    "\n",
    "---"
>>>>>>> 1907a8522d3c6fcaa549ff9abe1d4a75afea92e2
   ]
  },
  {
   "cell_type": "markdown",
   "metadata": {
    "id": "dNllU7rkHF70"
   },
   "source": [
    "4. Create an inline code example with backticks, like this:\n",
    "\n",
    "`print(\"Hello, world!\")`\n",
    "\n",
    "Then, create a multi-line code block:\n",
    "\n",
    "```python\n",
    "def greet(name):\n",
    "    return f\"Hello, {name}!\"\n",
    "greet(\"World\")\n",
    "```"
   ]
  },
  {
   "cell_type": "markdown",
   "metadata": {
    "id": "Q7OiCgERHF_c"
   },
   "source": [
<<<<<<< HEAD
    "`print (\"Hello, world!\")`\n",
    "\n",
    "```python\n",
    "def greet(name):\n",
    "    return f\"Hello, {name}!\"\n",
    "greet(\"World\")\n",
    "```"
=======
    "--- \n",
    "\n",
    "Your mark down here \n",
    "\n",
    "---"
>>>>>>> 1907a8522d3c6fcaa549ff9abe1d4a75afea92e2
   ]
  },
  {
   "cell_type": "markdown",
   "metadata": {
    "id": "cXKz2W9YHGCn"
   },
   "source": [
    "5. Hyperlinks\n",
    "\n",
    "  Add a link to a website:\n",
    "  [Google](https://www.google.com)\n",
    "\n",
    "  Images\n",
    "\n",
    "  Upload an image (or use an online URL) and add it to the notebook:\n",
    "\n",
    "  <h3>Python Logo</h3>\n",
    "  <img src=\"https://cdn.iconscout.com/icon/free/png-512/free-python-logo-icon-download-in-svg-png-gif-file-formats--programming-language-logos-icons-1720083.png?f=webp&w=256\" alt=\"python logo\" width=\"80\"/>"
   ]
  },
  {
   "cell_type": "markdown",
   "metadata": {
    "id": "P6uGmYtIHGFw"
   },
   "source": [
<<<<<<< HEAD
    "[Google](https://www.google.com)\n",
    "\n",
    "\n",
    "![Python Logo](https://cdn.iconscout.com/icon/free/png-512/free-python-logo-icon-download-in-svg-png-gif-file-formats--programming-language-logos-icons-1720083.png?f=webp&w=256)"
=======
    "--- \n",
    "\n",
    "Your mark down here \n",
    "\n",
    "---"
>>>>>>> 1907a8522d3c6fcaa549ff9abe1d4a75afea92e2
   ]
  },
  {
   "cell_type": "markdown",
   "metadata": {
    "id": "HITMIz3cHGJE"
   },
   "source": [
    "6. Mathematics with LaTeX\n",
    "\n",
    "  ### Mathematics with LaTeX\n",
    "\n",
    "  Write a mathematical equation in LaTeX, such as the quadratic formula:\n",
    "\n",
    "  $$\n",
    "  x = \\frac{-b \\pm \\sqrt{b^2 - 4ac}}{2a}\n",
    "  $$"
   ]
  },
  {
   "cell_type": "markdown",
   "metadata": {
    "id": "f4az5szGHGME"
   },
   "source": [
<<<<<<< HEAD
    " $$ \n",
    " x = \\frac{-b \\pm \\sqrt{b^2-4ac}}{2a}\n",
    " $$"
=======
    "--- \n",
    "\n",
    "Your mark down here \n",
    "\n",
    "---"
   ]
  },
  {
   "cell_type": "markdown",
   "metadata": {},
   "source": [
    "7. Markdown table \n",
    "\n",
    "- Make a mark down table that is 5 columns and 3 rows. \n",
    "- Make the first column centered\n",
    "- The next 3 should be centered \n",
    "- The final align to the right "
   ]
  },
  {
   "cell_type": "markdown",
   "metadata": {},
   "source": [
    "--- \n",
    "\n",
    "Your makrk down here \n",
    "\n",
    "---"
   ]
  },
  {
   "cell_type": "markdown",
   "metadata": {},
   "source": [
    "8. Other things \n",
    "\n",
    "Write a block of text and use the following:\n",
    "- Make a word Bold \n",
    "- Make a different work Italic \n",
    "- Make a different work Bold and Italic\n",
    "- Strikethrough a word \n",
    "- Make a table with bold column names "
   ]
  },
  {
   "cell_type": "markdown",
   "metadata": {},
   "source": [
    "--- \n",
    "\n",
    "Your makrk down here \n",
    "\n",
    "---"
>>>>>>> 1907a8522d3c6fcaa549ff9abe1d4a75afea92e2
   ]
  },
  {
   "cell_type": "markdown",
   "metadata": {
    "id": "ZjQYyEavLEkm"
   },
   "source": [
    "# Code Challange!\n",
    "\n",
    "Here's a simple Python script that creates and saves a file called sample.txt with some example text."
   ]
  },
  {
   "cell_type": "code",
<<<<<<< HEAD
   "execution_count": 2,
=======
   "execution_count": null,
>>>>>>> 1907a8522d3c6fcaa549ff9abe1d4a75afea92e2
   "metadata": {
    "colab": {
     "base_uri": "https://localhost:8080/"
    },
    "id": "Tf3nwqA-JsZw",
    "outputId": "732b76dc-eab3-4185-ebf3-7366bc025903"
   },
<<<<<<< HEAD
   "outputs": [
    {
     "name": "stdout",
     "output_type": "stream",
     "text": [
      "sample.txt has been created and saved.\n"
     ]
    }
   ],
=======
   "outputs": [],
>>>>>>> 1907a8522d3c6fcaa549ff9abe1d4a75afea92e2
   "source": [
    "with open(\"sample.txt\", \"w\") as file:\n",
    "    file.write(\"This is a sample text file.\\n\")\n",
    "    file.write(\"It contains multiple lines of text.\\n\")\n",
    "    file.write(\"Python makes file handling easy!\")\n",
    "\n",
    "print(\"sample.txt has been created and saved.\")"
   ]
  },
  {
   "cell_type": "code",
<<<<<<< HEAD
   "execution_count": 3,
=======
   "execution_count": null,
>>>>>>> 1907a8522d3c6fcaa549ff9abe1d4a75afea92e2
   "metadata": {
    "colab": {
     "base_uri": "https://localhost:8080/"
    },
    "id": "UEi6YgWgMb5A",
    "outputId": "30e99a91-40b6-4a5f-8e96-2756632e72ee"
   },
<<<<<<< HEAD
   "outputs": [
    {
     "name": "stdout",
     "output_type": "stream",
     "text": [
      "This is a sample text file.\n",
      "It contains multiple lines of text.\n",
      "Python makes file handling easy!\n"
     ]
    }
   ],
=======
   "outputs": [],
>>>>>>> 1907a8522d3c6fcaa549ff9abe1d4a75afea92e2
   "source": [
    "with open(\"sample.txt\", \"r\") as file:\n",
    "    contents = file.read()\n",
    "\n",
    "print(contents)"
   ]
  },
  {
   "cell_type": "markdown",
   "metadata": {
    "id": "LTbhz8ndLT8Y"
   },
   "source": [
    "Using the above as an example write a program that creates a little bio about yourself.\n",
    "\n",
    "- Use f strings to use your variables\n",
    "- Make the file save as what you entered in the name field\n",
    "- Read the file in python after you write it"
   ]
  },
  {
   "cell_type": "code",
<<<<<<< HEAD
   "execution_count": 7,
=======
   "execution_count": null,
>>>>>>> 1907a8522d3c6fcaa549ff9abe1d4a75afea92e2
   "metadata": {
    "colab": {
     "base_uri": "https://localhost:8080/"
    },
    "id": "bbzPphDoKgqE",
    "outputId": "a87a332e-150d-4a8f-e6aa-c673addcbc91"
   },
<<<<<<< HEAD
   "outputs": [
    {
     "name": "stdout",
     "output_type": "stream",
     "text": [
      "Hello, Kimberly! Your favorite hobby is knitting, your favorite animal is yorkie, your favorite color is blue\n"
     ]
    }
   ],
=======
   "outputs": [],
>>>>>>> 1907a8522d3c6fcaa549ff9abe1d4a75afea92e2
   "source": [
    "name = input(\"Enter your name: \")\n",
    "hobby = input(\"Enter your favorite hobby: \")\n",
    "animal = input(\"Enter your favorite animal: \")\n",
<<<<<<< HEAD
    "color = input(\"Enter your favorite color: \")\n",
    "\n",
    "with open(\"name.txt\", \"w\") as file:\n",
    "    file.write(f\"Hello, {name}! Your favorite hobby is {hobby}, your favorite animal is {animal}, your favorite color is {color}\")\n",
    "\n",
    "with open(\"name.txt\", \"r\") as file:\n",
    "    contents = file.read()\n",
    "\n",
    "print(contents)\n",
    "#print(f\"Hello, {name}! Your favorite hobby is {hobby}, your favorite animal is {animal}, your favorite color is {color}\")"
=======
    "color = input(\"Enter your favorite color: \")"
   ]
  },
  {
   "cell_type": "code",
   "execution_count": null,
   "metadata": {},
   "outputs": [],
   "source": [
    "print(\"test\")"
>>>>>>> 1907a8522d3c6fcaa549ff9abe1d4a75afea92e2
   ]
  }
 ],
 "metadata": {
  "colab": {
   "provenance": []
  },
  "kernelspec": {
   "display_name": "Python 3",
   "name": "python3"
  },
  "language_info": {
<<<<<<< HEAD
   "codemirror_mode": {
    "name": "ipython",
    "version": 3
   },
   "file_extension": ".py",
   "mimetype": "text/x-python",
   "name": "python",
   "nbconvert_exporter": "python",
   "pygments_lexer": "ipython3",
   "version": "3.11.9"
=======
   "name": "python"
>>>>>>> 1907a8522d3c6fcaa549ff9abe1d4a75afea92e2
  }
 },
 "nbformat": 4,
 "nbformat_minor": 0
}
